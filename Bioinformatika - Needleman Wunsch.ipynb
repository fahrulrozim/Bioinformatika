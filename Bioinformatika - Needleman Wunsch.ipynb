{
 "cells": [
  {
   "cell_type": "code",
   "execution_count": 1,
   "metadata": {},
   "outputs": [],
   "source": [
    "import numpy as np\n",
    "import pandas as pd"
   ]
  },
  {
   "cell_type": "code",
   "execution_count": 2,
   "metadata": {},
   "outputs": [
    {
     "name": "stdout",
     "output_type": "stream",
     "text": [
      "   A  R  N  D  C  Q  E  G  H  I ...  P  S  T   W  Y  V  B  Z  X  *\n",
      "A  4 -1 -2 -2  0 -1 -1  0 -2 -1 ... -1  1  0  -3 -2  0 -2 -1  0 -4\n",
      "R -1  5  0 -2 -3  1  0 -2  0 -3 ... -2 -1 -1  -3 -2 -3 -1  0 -1 -4\n",
      "N -2  0  6  1 -3  0  0  0  1 -3 ... -2  1  0  -4 -2 -3  3  0 -1 -4\n",
      "D -2 -2  1  6 -3  0  2 -1 -1 -3 ... -1  0 -1  -4 -3 -3  4  1 -1 -4\n",
      "C  0 -3 -3 -3  9 -3 -4 -3 -3 -1 ... -3 -1 -1  -2 -2 -1 -3 -3 -2 -4\n",
      "Q -1  1  0  0 -3  5  2 -2  0 -3 ... -1  0 -1  -2 -1 -2  0  3 -1 -4\n",
      "E -1  0  0  2 -4  2  5 -2  0 -3 ... -1  0 -1  -3 -2 -2  1  4 -1 -4\n",
      "G  0 -2  0 -1 -3 -2 -2  6 -2 -4 ... -2  0 -2  -2 -3 -3 -1 -2 -1 -4\n",
      "H -2  0  1 -1 -3  0  0 -2  8 -3 ... -2 -1 -2  -2  2 -3  0  0 -1 -4\n",
      "I -1 -3 -3 -3 -1 -3 -3 -4 -3  4 ... -3 -2 -1  -3 -1  3 -3 -3 -1 -4\n",
      "L -1 -2 -3 -4 -1 -2 -3 -4 -3  2 ... -3 -2 -1  -2 -1  1 -4 -3 -1 -4\n",
      "K -1  2  0 -1 -3  1  1 -2 -1 -3 ... -1  0 -1  -3 -2 -2  0  1 -1 -4\n",
      "M -1 -1 -2 -3 -1  0 -2 -3 -2  1 ... -2 -1 -1  -1 -1  1 -3 -1 -1 -4\n",
      "F -2 -3 -3 -3 -2 -3 -3 -3 -1  0 ... -4 -2 -2   1  3 -1 -3 -3 -1 -4\n",
      "P -1 -2 -2 -1 -3 -1 -1 -2 -2 -3 ...  7 -1 -1  -4 -3 -2 -2 -1 -2 -4\n",
      "S  1 -1  1  0 -1  0  0  0 -1 -2 ... -1  4  1  -3 -2 -2  0  0  0 -4\n",
      "T  0 -1  0 -1 -1 -1 -1 -2 -2 -1 ... -1  1  5  -2 -2  0 -1 -1  0 -4\n",
      "W -3 -3 -4 -4 -2 -2 -3 -2 -2 -3 ... -4 -3 -2  11  2 -3 -4 -3 -2 -4\n",
      "Y -2 -2 -2 -3 -2 -1 -2 -3  2 -1 ... -3 -2 -2   2  7 -1 -3 -2 -1 -4\n",
      "V  0 -3 -3 -3 -1 -2 -2 -3 -3  3 ... -2 -2  0  -3 -1  4 -3 -2 -1 -4\n",
      "B -2 -1  3  4 -3  0  1 -1  0 -3 ... -2  0 -1  -4 -3 -3  4  1 -1 -4\n",
      "Z -1  0  0  1 -3  3  4 -2  0 -3 ... -1  0 -1  -3 -2 -2  1  4 -1 -4\n",
      "X  0 -1 -1 -1 -2 -1 -1 -1 -1 -1 ... -2  0  0  -2 -1 -1 -1 -1 -1 -4\n",
      "* -4 -4 -4 -4 -4 -4 -4 -4 -4 -4 ... -4 -4 -4  -4 -4 -4 -4 -4 -4  1\n",
      "\n",
      "[24 rows x 24 columns]\n"
     ]
    }
   ],
   "source": [
    "A = 'NALMSQA'\n",
    "B = 'MNALQM'\n",
    "\n",
    "blosum = pd.read_csv(\"C:/Users/Rozi/Desktop/Blosum.txt\", delim_whitespace=True)\n",
    "print(blosum)"
   ]
  },
  {
   "cell_type": "code",
   "execution_count": 3,
   "metadata": {},
   "outputs": [],
   "source": [
    "A = list(\"*\") + list(A)\n",
    "B = list(\"*\") + list(B)"
   ]
  },
  {
   "cell_type": "code",
   "execution_count": 4,
   "metadata": {},
   "outputs": [
    {
     "name": "stdout",
     "output_type": "stream",
     "text": [
      "[[0, 0, 0, 0, 0, 0, 0], [0, 0, 0, 0, 0, 0, 0], [0, 0, 0, 0, 0, 0, 0], [0, 0, 0, 0, 0, 0, 0], [0, 0, 0, 0, 0, 0, 0], [0, 0, 0, 0, 0, 0, 0], [0, 0, 0, 0, 0, 0, 0], [0, 0, 0, 0, 0, 0, 0]]\n"
     ]
    }
   ],
   "source": [
    "F = [[0 for x in range(len(B))] for x in range(len(A))]\n",
    "print(F)\n",
    "\n",
    "d = -2"
   ]
  },
  {
   "cell_type": "code",
   "execution_count": 5,
   "metadata": {},
   "outputs": [],
   "source": [
    "# def createSimiliarityMatrix(lengthofA, lengthofB, d, F):\n",
    "for i in range (0,len(A)):\n",
    "    F[i][0] = d*i\n",
    "for j in range (0,len(B)):\n",
    "    F[0][j] = d*j\n",
    "for i in range (1,len(A)):\n",
    "    for j in range (1,len(B)):\n",
    "        Match = F[i-1][j-1] + blosum[A[i]][B[j]]\n",
    "        Delete = F[i-1][j] + d\n",
    "        Insert = F[i][j-1] + d\n",
    "        F[i][j] = max(Match, Delete, Insert)"
   ]
  },
  {
   "cell_type": "code",
   "execution_count": 6,
   "metadata": {},
   "outputs": [],
   "source": [
    "# def needlemanWunsch():\n",
    "AlignmentA = ''\n",
    "AlignmentB = ''\n",
    "i = len(A)-1\n",
    "j = len(B)-1\n",
    "while(i>0 or j>0):\n",
    "    if (i>0 and j>0 and F[i][j] == F[i-1][j-1] + blosum[A[i]][B[j]]):\n",
    "        AlignmentA = A[i] + AlignmentA\n",
    "        AlignmentB = B[j] + AlignmentB\n",
    "        i = i-1\n",
    "        j = j-1\n",
    "    elif (i>0 and F[i][j] == F[i-1][j] + d):\n",
    "        AlignmentA = A[i] + AlignmentA\n",
    "        AlignmentB = '-' + AlignmentB\n",
    "        i = i-1\n",
    "    elif (j>0 and F[i][j] == F[i][j-1] + d):\n",
    "        AlignmentA = '-' + AlignmentA\n",
    "        AlignmentB = B[i] + AlignmentB\n",
    "        j = j-1"
   ]
  },
  {
   "cell_type": "code",
   "execution_count": 7,
   "metadata": {},
   "outputs": [
    {
     "data": {
      "text/plain": [
       "'*NAL--QM'"
      ]
     },
     "execution_count": 7,
     "metadata": {},
     "output_type": "execute_result"
    }
   ],
   "source": [
    "AlignmentB"
   ]
  },
  {
   "cell_type": "code",
   "execution_count": 8,
   "metadata": {},
   "outputs": [
    {
     "data": {
      "text/plain": [
       "'-NALMSQA'"
      ]
     },
     "execution_count": 8,
     "metadata": {},
     "output_type": "execute_result"
    }
   ],
   "source": [
    "AlignmentA"
   ]
  },
  {
   "cell_type": "code",
   "execution_count": 9,
   "metadata": {},
   "outputs": [
    {
     "data": {
      "text/plain": [
       "8"
      ]
     },
     "execution_count": 9,
     "metadata": {},
     "output_type": "execute_result"
    }
   ],
   "source": [
    "len(A)"
   ]
  }
 ],
 "metadata": {
  "kernelspec": {
   "display_name": "Python 3",
   "language": "python",
   "name": "python3"
  },
  "language_info": {
   "codemirror_mode": {
    "name": "ipython",
    "version": 3
   },
   "file_extension": ".py",
   "mimetype": "text/x-python",
   "name": "python",
   "nbconvert_exporter": "python",
   "pygments_lexer": "ipython3",
   "version": "3.6.4"
  }
 },
 "nbformat": 4,
 "nbformat_minor": 2
}
